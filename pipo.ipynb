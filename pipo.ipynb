{
 "cells": [
  {
   "cell_type": "code",
   "execution_count": 28,
   "metadata": {},
   "outputs": [],
   "source": [
    "import json\n",
    "import numpy as np\n",
    "import matplotlib.pyplot as plt\n",
    "import pandas as pd\n",
    "from urllib.request import urlopen "
   ]
  },
  {
   "cell_type": "code",
   "execution_count": 29,
   "metadata": {},
   "outputs": [],
   "source": [
    "url = \"https://raw.githubusercontent.com/Clement87/Pepito-data/refs/heads/main/tweets.json\";\n",
    "response = urlopen(url)\n",
    "jsondata = json.load(response)\n",
    "df = pd.DataFrame(jsondata)"
   ]
  },
  {
   "cell_type": "code",
   "execution_count": 30,
   "metadata": {},
   "outputs": [
    {
     "data": {
      "text/html": [
       "<div>\n",
       "<style scoped>\n",
       "    .dataframe tbody tr th:only-of-type {\n",
       "        vertical-align: middle;\n",
       "    }\n",
       "\n",
       "    .dataframe tbody tr th {\n",
       "        vertical-align: top;\n",
       "    }\n",
       "\n",
       "    .dataframe thead th {\n",
       "        text-align: right;\n",
       "    }\n",
       "</style>\n",
       "<table border=\"1\" class=\"dataframe\">\n",
       "  <thead>\n",
       "    <tr style=\"text-align: right;\">\n",
       "      <th></th>\n",
       "      <th>full_text</th>\n",
       "      <th>created_at</th>\n",
       "      <th>media</th>\n",
       "    </tr>\n",
       "  </thead>\n",
       "  <tbody>\n",
       "    <tr>\n",
       "      <th>0</th>\n",
       "      <td>Pépito is back home (02:14:56) https://t.co/9f...</td>\n",
       "      <td>Sat Nov 23 01:15:00 +0000 2024</td>\n",
       "      <td>https://pbs.twimg.com/media/GdCCRwrXEAAgu0u.jpg</td>\n",
       "    </tr>\n",
       "    <tr>\n",
       "      <th>1</th>\n",
       "      <td>Pépito is back home (21:52:30) https://t.co/mM...</td>\n",
       "      <td>Fri Nov 22 20:52:33 +0000 2024</td>\n",
       "      <td>https://pbs.twimg.com/media/GdBGNcmXMAAtlYv.jpg</td>\n",
       "    </tr>\n",
       "    <tr>\n",
       "      <th>2</th>\n",
       "      <td>Pépito is out (21:04:26) https://t.co/Zey7MlVqj4</td>\n",
       "      <td>Fri Nov 22 20:04:29 +0000 2024</td>\n",
       "      <td>https://pbs.twimg.com/media/GdA7NMHWQAAFmzC.jpg</td>\n",
       "    </tr>\n",
       "    <tr>\n",
       "      <th>3</th>\n",
       "      <td>Pépito is back home (18:00:56) https://t.co/o9...</td>\n",
       "      <td>Fri Nov 22 17:01:00 +0000 2024</td>\n",
       "      <td>https://pbs.twimg.com/media/GdARNgeXcAARxqK.jpg</td>\n",
       "    </tr>\n",
       "    <tr>\n",
       "      <th>4</th>\n",
       "      <td>Pépito is back home (07:09:34) https://t.co/bG...</td>\n",
       "      <td>Fri Nov 22 06:09:37 +0000 2024</td>\n",
       "      <td>https://pbs.twimg.com/media/Gc98H2NWUAEzlH4.jpg</td>\n",
       "    </tr>\n",
       "  </tbody>\n",
       "</table>\n",
       "</div>"
      ],
      "text/plain": [
       "                                           full_text  \\\n",
       "0  Pépito is back home (02:14:56) https://t.co/9f...   \n",
       "1  Pépito is back home (21:52:30) https://t.co/mM...   \n",
       "2   Pépito is out (21:04:26) https://t.co/Zey7MlVqj4   \n",
       "3  Pépito is back home (18:00:56) https://t.co/o9...   \n",
       "4  Pépito is back home (07:09:34) https://t.co/bG...   \n",
       "\n",
       "                       created_at  \\\n",
       "0  Sat Nov 23 01:15:00 +0000 2024   \n",
       "1  Fri Nov 22 20:52:33 +0000 2024   \n",
       "2  Fri Nov 22 20:04:29 +0000 2024   \n",
       "3  Fri Nov 22 17:01:00 +0000 2024   \n",
       "4  Fri Nov 22 06:09:37 +0000 2024   \n",
       "\n",
       "                                             media  \n",
       "0  https://pbs.twimg.com/media/GdCCRwrXEAAgu0u.jpg  \n",
       "1  https://pbs.twimg.com/media/GdBGNcmXMAAtlYv.jpg  \n",
       "2  https://pbs.twimg.com/media/GdA7NMHWQAAFmzC.jpg  \n",
       "3  https://pbs.twimg.com/media/GdARNgeXcAARxqK.jpg  \n",
       "4  https://pbs.twimg.com/media/Gc98H2NWUAEzlH4.jpg  "
      ]
     },
     "execution_count": 30,
     "metadata": {},
     "output_type": "execute_result"
    }
   ],
   "source": [
    "df.head()"
   ]
  },
  {
   "cell_type": "code",
   "execution_count": 41,
   "metadata": {},
   "outputs": [
    {
     "data": {
      "text/html": [
       "<div>\n",
       "<style scoped>\n",
       "    .dataframe tbody tr th:only-of-type {\n",
       "        vertical-align: middle;\n",
       "    }\n",
       "\n",
       "    .dataframe tbody tr th {\n",
       "        vertical-align: top;\n",
       "    }\n",
       "\n",
       "    .dataframe thead th {\n",
       "        text-align: right;\n",
       "    }\n",
       "</style>\n",
       "<table border=\"1\" class=\"dataframe\">\n",
       "  <thead>\n",
       "    <tr style=\"text-align: right;\">\n",
       "      <th></th>\n",
       "      <th>created_at</th>\n",
       "      <th>out_or_back</th>\n",
       "      <th>time</th>\n",
       "      <th>date</th>\n",
       "      <th>hour</th>\n",
       "      <th>month</th>\n",
       "    </tr>\n",
       "  </thead>\n",
       "  <tbody>\n",
       "    <tr>\n",
       "      <th>3627</th>\n",
       "      <td>2013-01-09 23:14:06+01:00</td>\n",
       "      <td>out</td>\n",
       "      <td>23:14:06</td>\n",
       "      <td>2013-01-09</td>\n",
       "      <td>23</td>\n",
       "      <td>1</td>\n",
       "    </tr>\n",
       "    <tr>\n",
       "      <th>3626</th>\n",
       "      <td>2013-01-10 00:13:05+01:00</td>\n",
       "      <td>back</td>\n",
       "      <td>00:13:05</td>\n",
       "      <td>2013-01-10</td>\n",
       "      <td>0</td>\n",
       "      <td>1</td>\n",
       "    </tr>\n",
       "    <tr>\n",
       "      <th>3625</th>\n",
       "      <td>2013-01-10 04:47:24+01:00</td>\n",
       "      <td>out</td>\n",
       "      <td>04:47:24</td>\n",
       "      <td>2013-01-10</td>\n",
       "      <td>4</td>\n",
       "      <td>1</td>\n",
       "    </tr>\n",
       "    <tr>\n",
       "      <th>3624</th>\n",
       "      <td>2013-01-10 05:39:11+01:00</td>\n",
       "      <td>back</td>\n",
       "      <td>05:39:11</td>\n",
       "      <td>2013-01-10</td>\n",
       "      <td>5</td>\n",
       "      <td>1</td>\n",
       "    </tr>\n",
       "    <tr>\n",
       "      <th>3623</th>\n",
       "      <td>2013-01-10 20:18:31+01:00</td>\n",
       "      <td>back</td>\n",
       "      <td>20:18:31</td>\n",
       "      <td>2013-01-10</td>\n",
       "      <td>20</td>\n",
       "      <td>1</td>\n",
       "    </tr>\n",
       "  </tbody>\n",
       "</table>\n",
       "</div>"
      ],
      "text/plain": [
       "                    created_at out_or_back      time        date  hour  month\n",
       "3627 2013-01-09 23:14:06+01:00         out  23:14:06  2013-01-09    23      1\n",
       "3626 2013-01-10 00:13:05+01:00        back  00:13:05  2013-01-10     0      1\n",
       "3625 2013-01-10 04:47:24+01:00         out  04:47:24  2013-01-10     4      1\n",
       "3624 2013-01-10 05:39:11+01:00        back  05:39:11  2013-01-10     5      1\n",
       "3623 2013-01-10 20:18:31+01:00        back  20:18:31  2013-01-10    20      1"
      ]
     },
     "execution_count": 41,
     "metadata": {},
     "output_type": "execute_result"
    }
   ],
   "source": [
    "df['created_at'] = pd.to_datetime(df['created_at'], utc=True, format='%a %b %d %H:%M:%S %z %Y').dt.tz_convert('Europe/Madrid')\n",
    "df.head()"
   ]
  },
  {
   "cell_type": "markdown",
   "metadata": {},
   "source": [
    "Check if there is some invalid data"
   ]
  },
  {
   "cell_type": "code",
   "execution_count": 32,
   "metadata": {},
   "outputs": [
    {
     "data": {
      "text/plain": [
       "created_at     0\n",
       "out_or_back    0\n",
       "dtype: int64"
      ]
     },
     "execution_count": 32,
     "metadata": {},
     "output_type": "execute_result"
    }
   ],
   "source": [
    "back = \"Pépito is back home\"\n",
    "out = \"Pépito is out\"\n",
    "df[\"isBack\"] = df[\"full_text\"].str.contains(back)\n",
    "df[\"isOut\"] = df[\"full_text\"].str.contains(out)\n",
    "df['out_or_back'] = np.where(df['isOut'], 'out', np.where(df['isBack'], 'back', 'other'))\n",
    "df.drop(columns=['full_text', 'media', 'isBack', 'isOut'], inplace=True)\n",
    "df.isna().sum()\n"
   ]
  },
  {
   "cell_type": "code",
   "execution_count": 33,
   "metadata": {},
   "outputs": [
    {
     "data": {
      "text/html": [
       "<div>\n",
       "<style scoped>\n",
       "    .dataframe tbody tr th:only-of-type {\n",
       "        vertical-align: middle;\n",
       "    }\n",
       "\n",
       "    .dataframe tbody tr th {\n",
       "        vertical-align: top;\n",
       "    }\n",
       "\n",
       "    .dataframe thead th {\n",
       "        text-align: right;\n",
       "    }\n",
       "</style>\n",
       "<table border=\"1\" class=\"dataframe\">\n",
       "  <thead>\n",
       "    <tr style=\"text-align: right;\">\n",
       "      <th></th>\n",
       "      <th>created_at</th>\n",
       "      <th>out_or_back</th>\n",
       "      <th>time</th>\n",
       "      <th>date</th>\n",
       "    </tr>\n",
       "  </thead>\n",
       "  <tbody>\n",
       "    <tr>\n",
       "      <th>3627</th>\n",
       "      <td>2013-01-09 23:14:06+01:00</td>\n",
       "      <td>out</td>\n",
       "      <td>23:14:06</td>\n",
       "      <td>2013-01-09</td>\n",
       "    </tr>\n",
       "    <tr>\n",
       "      <th>3626</th>\n",
       "      <td>2013-01-10 00:13:05+01:00</td>\n",
       "      <td>back</td>\n",
       "      <td>00:13:05</td>\n",
       "      <td>2013-01-10</td>\n",
       "    </tr>\n",
       "    <tr>\n",
       "      <th>3625</th>\n",
       "      <td>2013-01-10 04:47:24+01:00</td>\n",
       "      <td>out</td>\n",
       "      <td>04:47:24</td>\n",
       "      <td>2013-01-10</td>\n",
       "    </tr>\n",
       "    <tr>\n",
       "      <th>3624</th>\n",
       "      <td>2013-01-10 05:39:11+01:00</td>\n",
       "      <td>back</td>\n",
       "      <td>05:39:11</td>\n",
       "      <td>2013-01-10</td>\n",
       "    </tr>\n",
       "    <tr>\n",
       "      <th>3623</th>\n",
       "      <td>2013-01-10 20:18:31+01:00</td>\n",
       "      <td>back</td>\n",
       "      <td>20:18:31</td>\n",
       "      <td>2013-01-10</td>\n",
       "    </tr>\n",
       "  </tbody>\n",
       "</table>\n",
       "</div>"
      ],
      "text/plain": [
       "                    created_at out_or_back      time        date\n",
       "3627 2013-01-09 23:14:06+01:00         out  23:14:06  2013-01-09\n",
       "3626 2013-01-10 00:13:05+01:00        back  00:13:05  2013-01-10\n",
       "3625 2013-01-10 04:47:24+01:00         out  04:47:24  2013-01-10\n",
       "3624 2013-01-10 05:39:11+01:00        back  05:39:11  2013-01-10\n",
       "3623 2013-01-10 20:18:31+01:00        back  20:18:31  2013-01-10"
      ]
     },
     "execution_count": 33,
     "metadata": {},
     "output_type": "execute_result"
    }
   ],
   "source": [
    "df['time'] = df['created_at'].dt.time\n",
    "df['date'] = df['created_at'].dt.date\n",
    "df.sort_values(by='created_at', inplace=True)\n",
    "df.head()"
   ]
  },
  {
   "cell_type": "code",
   "execution_count": 34,
   "metadata": {},
   "outputs": [
    {
     "data": {
      "text/plain": [
       "<Axes: xlabel='out_or_back'>"
      ]
     },
     "execution_count": 34,
     "metadata": {},
     "output_type": "execute_result"
    },
    {
     "data": {
      "image/png": "[encoded data removed]",
      "text/plain": [
       "<Figure size 640x480 with 1 Axes>"
      ]
     },
     "metadata": {},
     "output_type": "display_data"
    }
   ],
   "source": [
    "#histogram of out and back\n",
    "df['out_or_back'].value_counts().plot(kind='bar')"
   ]
  },
  {
   "cell_type": "code",
   "execution_count": 35,
   "metadata": {},
   "outputs": [
    {
     "data": {
      "text/html": [
       "<div>\n",
       "<style scoped>\n",
       "    .dataframe tbody tr th:only-of-type {\n",
       "        vertical-align: middle;\n",
       "    }\n",
       "\n",
       "    .dataframe tbody tr th {\n",
       "        vertical-align: top;\n",
       "    }\n",
       "\n",
       "    .dataframe thead th {\n",
       "        text-align: right;\n",
       "    }\n",
       "</style>\n",
       "<table border=\"1\" class=\"dataframe\">\n",
       "  <thead>\n",
       "    <tr style=\"text-align: right;\">\n",
       "      <th>out_or_back</th>\n",
       "      <th>date</th>\n",
       "      <th>back</th>\n",
       "      <th>out</th>\n",
       "    </tr>\n",
       "  </thead>\n",
       "  <tbody>\n",
       "    <tr>\n",
       "      <th>0</th>\n",
       "      <td>2013-01-09</td>\n",
       "      <td>0.0</td>\n",
       "      <td>1.0</td>\n",
       "    </tr>\n",
       "    <tr>\n",
       "      <th>1</th>\n",
       "      <td>2013-01-10</td>\n",
       "      <td>4.0</td>\n",
       "      <td>3.0</td>\n",
       "    </tr>\n",
       "    <tr>\n",
       "      <th>2</th>\n",
       "      <td>2013-01-11</td>\n",
       "      <td>5.0</td>\n",
       "      <td>5.0</td>\n",
       "    </tr>\n",
       "    <tr>\n",
       "      <th>3</th>\n",
       "      <td>2013-01-12</td>\n",
       "      <td>5.0</td>\n",
       "      <td>5.0</td>\n",
       "    </tr>\n",
       "    <tr>\n",
       "      <th>4</th>\n",
       "      <td>2013-01-13</td>\n",
       "      <td>3.0</td>\n",
       "      <td>2.0</td>\n",
       "    </tr>\n",
       "  </tbody>\n",
       "</table>\n",
       "</div>"
      ],
      "text/plain": [
       "out_or_back        date  back  out\n",
       "0            2013-01-09   0.0  1.0\n",
       "1            2013-01-10   4.0  3.0\n",
       "2            2013-01-11   5.0  5.0\n",
       "3            2013-01-12   5.0  5.0\n",
       "4            2013-01-13   3.0  2.0"
      ]
     },
     "execution_count": 35,
     "metadata": {},
     "output_type": "execute_result"
    }
   ],
   "source": [
    "date_df = df.groupby('date')['out_or_back'].value_counts().unstack().fillna(0).reset_index()\n",
    "date_df.head()"
   ]
  },
  {
   "cell_type": "code",
   "execution_count": 36,
   "metadata": {},
   "outputs": [
    {
     "name": "stdout",
     "output_type": "stream",
     "text": [
      "Mean out: 1.981805293005671\n",
      "Mean back: 3.0857750472589793\n"
     ]
    }
   ],
   "source": [
    "out_mean = date_df['out'].mean()\n",
    "back_mean = date_df['back'].mean()\n",
    "print(f\"Mean out: {out_mean}\")\n",
    "print(f\"Mean back: {back_mean}\")"
   ]
  },
  {
   "cell_type": "code",
   "execution_count": 37,
   "metadata": {},
   "outputs": [
    {
     "data": {
      "text/html": [
       "<div>\n",
       "<style scoped>\n",
       "    .dataframe tbody tr th:only-of-type {\n",
       "        vertical-align: middle;\n",
       "    }\n",
       "\n",
       "    .dataframe tbody tr th {\n",
       "        vertical-align: top;\n",
       "    }\n",
       "\n",
       "    .dataframe thead th {\n",
       "        text-align: right;\n",
       "    }\n",
       "</style>\n",
       "<table border=\"1\" class=\"dataframe\">\n",
       "  <thead>\n",
       "    <tr style=\"text-align: right;\">\n",
       "      <th>out_or_back</th>\n",
       "      <th>hour</th>\n",
       "      <th>back</th>\n",
       "      <th>out</th>\n",
       "    </tr>\n",
       "  </thead>\n",
       "  <tbody>\n",
       "    <tr>\n",
       "      <th>0</th>\n",
       "      <td>0</td>\n",
       "      <td>933</td>\n",
       "      <td>497</td>\n",
       "    </tr>\n",
       "    <tr>\n",
       "      <th>1</th>\n",
       "      <td>1</td>\n",
       "      <td>840</td>\n",
       "      <td>449</td>\n",
       "    </tr>\n",
       "    <tr>\n",
       "      <th>2</th>\n",
       "      <td>2</td>\n",
       "      <td>653</td>\n",
       "      <td>495</td>\n",
       "    </tr>\n",
       "    <tr>\n",
       "      <th>3</th>\n",
       "      <td>3</td>\n",
       "      <td>691</td>\n",
       "      <td>631</td>\n",
       "    </tr>\n",
       "    <tr>\n",
       "      <th>4</th>\n",
       "      <td>4</td>\n",
       "      <td>847</td>\n",
       "      <td>914</td>\n",
       "    </tr>\n",
       "  </tbody>\n",
       "</table>\n",
       "</div>"
      ],
      "text/plain": [
       "out_or_back  hour  back  out\n",
       "0               0   933  497\n",
       "1               1   840  449\n",
       "2               2   653  495\n",
       "3               3   691  631\n",
       "4               4   847  914"
      ]
     },
     "execution_count": 37,
     "metadata": {},
     "output_type": "execute_result"
    }
   ],
   "source": [
    "df[\"hour\"] = df[\"created_at\"].dt.hour\n",
    "hour_df = df.groupby('hour')['out_or_back'].value_counts().unstack().fillna(0).reset_index()\n",
    "hour_df.head()"
   ]
  },
  {
   "cell_type": "code",
   "execution_count": 53,
   "metadata": {},
   "outputs": [
    {
     "data": {
      "image/png": "[encoded data removed]",
      "text/plain": [
       "<Figure size 640x480 with 1 Axes>"
      ]
     },
     "metadata": {},
     "output_type": "display_data"
    }
   ],
   "source": [
    "hour_df.plot(x='hour', y=['back', 'out'], kind='bar', alpha=0.5, edgecolor='black')\n",
    "plt.xlabel('Hour')\n",
    "plt.ylabel('Count')\n",
    "plt.title('Histogram of Pépito out or back by hour')\n",
    "plt.legend(['Out', 'Back'])\n",
    "plt.xticks(range(0, 24))\n",
    "plt.show() "
   ]
  },
  {
   "cell_type": "code",
   "execution_count": 58,
   "metadata": {},
   "outputs": [
    {
     "data": {
      "text/html": [
       "<div>\n",
       "<style scoped>\n",
       "    .dataframe tbody tr th:only-of-type {\n",
       "        vertical-align: middle;\n",
       "    }\n",
       "\n",
       "    .dataframe tbody tr th {\n",
       "        vertical-align: top;\n",
       "    }\n",
       "\n",
       "    .dataframe thead th {\n",
       "        text-align: right;\n",
       "    }\n",
       "</style>\n",
       "<table border=\"1\" class=\"dataframe\">\n",
       "  <thead>\n",
       "    <tr style=\"text-align: right;\">\n",
       "      <th>out_or_back</th>\n",
       "      <th>month</th>\n",
       "      <th>back</th>\n",
       "      <th>out</th>\n",
       "    </tr>\n",
       "  </thead>\n",
       "  <tbody>\n",
       "    <tr>\n",
       "      <th>0</th>\n",
       "      <td>1</td>\n",
       "      <td>1137</td>\n",
       "      <td>699</td>\n",
       "    </tr>\n",
       "    <tr>\n",
       "      <th>1</th>\n",
       "      <td>2</td>\n",
       "      <td>1149</td>\n",
       "      <td>703</td>\n",
       "    </tr>\n",
       "    <tr>\n",
       "      <th>2</th>\n",
       "      <td>3</td>\n",
       "      <td>1194</td>\n",
       "      <td>848</td>\n",
       "    </tr>\n",
       "    <tr>\n",
       "      <th>3</th>\n",
       "      <td>4</td>\n",
       "      <td>1077</td>\n",
       "      <td>633</td>\n",
       "    </tr>\n",
       "    <tr>\n",
       "      <th>4</th>\n",
       "      <td>5</td>\n",
       "      <td>1140</td>\n",
       "      <td>798</td>\n",
       "    </tr>\n",
       "  </tbody>\n",
       "</table>\n",
       "</div>"
      ],
      "text/plain": [
       "out_or_back  month  back  out\n",
       "0                1  1137  699\n",
       "1                2  1149  703\n",
       "2                3  1194  848\n",
       "3                4  1077  633\n",
       "4                5  1140  798"
      ]
     },
     "execution_count": 58,
     "metadata": {},
     "output_type": "execute_result"
    }
   ],
   "source": [
    "df[\"month\"] = df[\"created_at\"].dt.month\n",
    "month_df = df.groupby('month')['out_or_back'].value_counts().unstack().fillna(0).reset_index()\n",
    "month_df.head()"
   ]
  },
  {
   "cell_type": "code",
   "execution_count": 62,
   "metadata": {},
   "outputs": [
    {
     "data": {
      "image/png": "[encoded data removed]",
      "text/plain": [
       "<Figure size 640x480 with 1 Axes>"
      ]
     },
     "metadata": {},
     "output_type": "display_data"
    }
   ],
   "source": [
    "month_df.plot(x='month', y=['back', 'out'], kind='bar', alpha=0.5, edgecolor='black')\n",
    "plt.xlabel('Month')\n",
    "plt.ylabel('Count')\n",
    "plt.title('Histogram of Pépito out or back by month')\n",
    "plt.legend(['Out', 'Back'])\n",
    "plt.xticks(range(0, 12), labels=['Jan', 'Feb', 'Mar', 'Apr', 'May', 'Jun', 'Jul', 'Aug', 'Sep', 'Oct', 'Nov', 'Dec'], rotation=45)\n",
    "plt.show() "
   ]
  },
  {
   "cell_type": "code",
   "execution_count": 60,
   "metadata": {},
   "outputs": [
    {
     "data": {
      "text/html": [
       "<div>\n",
       "<style scoped>\n",
       "    .dataframe tbody tr th:only-of-type {\n",
       "        vertical-align: middle;\n",
       "    }\n",
       "\n",
       "    .dataframe tbody tr th {\n",
       "        vertical-align: top;\n",
       "    }\n",
       "\n",
       "    .dataframe thead th {\n",
       "        text-align: right;\n",
       "    }\n",
       "</style>\n",
       "<table border=\"1\" class=\"dataframe\">\n",
       "  <thead>\n",
       "    <tr style=\"text-align: right;\">\n",
       "      <th>out_or_back</th>\n",
       "      <th>weekday</th>\n",
       "      <th>back</th>\n",
       "      <th>out</th>\n",
       "    </tr>\n",
       "  </thead>\n",
       "  <tbody>\n",
       "    <tr>\n",
       "      <th>0</th>\n",
       "      <td>0</td>\n",
       "      <td>1902</td>\n",
       "      <td>1223</td>\n",
       "    </tr>\n",
       "    <tr>\n",
       "      <th>1</th>\n",
       "      <td>1</td>\n",
       "      <td>1862</td>\n",
       "      <td>1155</td>\n",
       "    </tr>\n",
       "    <tr>\n",
       "      <th>2</th>\n",
       "      <td>2</td>\n",
       "      <td>1829</td>\n",
       "      <td>1145</td>\n",
       "    </tr>\n",
       "    <tr>\n",
       "      <th>3</th>\n",
       "      <td>3</td>\n",
       "      <td>1854</td>\n",
       "      <td>1238</td>\n",
       "    </tr>\n",
       "    <tr>\n",
       "      <th>4</th>\n",
       "      <td>4</td>\n",
       "      <td>1849</td>\n",
       "      <td>1181</td>\n",
       "    </tr>\n",
       "    <tr>\n",
       "      <th>5</th>\n",
       "      <td>5</td>\n",
       "      <td>1855</td>\n",
       "      <td>1204</td>\n",
       "    </tr>\n",
       "    <tr>\n",
       "      <th>6</th>\n",
       "      <td>6</td>\n",
       "      <td>1908</td>\n",
       "      <td>1241</td>\n",
       "    </tr>\n",
       "  </tbody>\n",
       "</table>\n",
       "</div>"
      ],
      "text/plain": [
       "out_or_back  weekday  back   out\n",
       "0                  0  1902  1223\n",
       "1                  1  1862  1155\n",
       "2                  2  1829  1145\n",
       "3                  3  1854  1238\n",
       "4                  4  1849  1181\n",
       "5                  5  1855  1204\n",
       "6                  6  1908  1241"
      ]
     },
     "execution_count": 60,
     "metadata": {},
     "output_type": "execute_result"
    }
   ],
   "source": [
    "df[\"weekday\"] = df[\"created_at\"].dt.weekday\n",
    "weekday_df = df.groupby('weekday')['out_or_back'].value_counts().unstack().fillna(0).reset_index()\n",
    "weekday_df"
   ]
  },
  {
   "cell_type": "code",
   "execution_count": 61,
   "metadata": {},
   "outputs": [
    {
     "data": {
      "image/png": "[encoded data removed]",
      "text/plain": [
       "<Figure size 640x480 with 1 Axes>"
      ]
     },
     "metadata": {},
     "output_type": "display_data"
    }
   ],
   "source": [
    "weekday_df.plot(x='weekday', y=['back', 'out'], kind='bar', alpha=0.5, edgecolor='black')\n",
    "plt.xlabel('Weekday')\n",
    "plt.ylabel('Count')\n",
    "plt.title('Histogram of Pépito out or back by weekday')\n",
    "plt.legend(['Out', 'Back'])\n",
    "plt.xticks(range(7), labels=['Mon', 'Tue', 'Wed', 'Thu', 'Fri', 'Sat', 'Sun'], rotation=45)\n",
    "plt.show() "
   ]
  }
 ],
 "metadata": {
  "kernelspec": {
   "display_name": "Python 3 (ipykernel)",
   "language": "python",
   "name": "python3"
  },
  "language_info": {
   "codemirror_mode": {
    "name": "ipython",
    "version": 3
   },
   "file_extension": ".py",
   "mimetype": "text/x-python",
   "name": "python",
   "nbconvert_exporter": "python",
   "pygments_lexer": "ipython3",
   "version": "3.11.6"
  }
 },
 "nbformat": 4,
 "nbformat_minor": 2
}
